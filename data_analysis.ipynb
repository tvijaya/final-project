{
 "cells": [
  {
   "cell_type": "code",
   "execution_count": 1,
   "metadata": {
    "collapsed": true
   },
   "outputs": [],
   "source": [
    "import pandas as pd\n",
    "import numpy as np\n",
    "from matplotlib import pyplot as plt\n",
    "from sklearn.preprocessing import StandardScaler\n",
    "from sklearn.model_selection import train_test_split\n",
    "from sklearn.cluster import KMeans"
   ]
  },
  {
   "cell_type": "code",
   "execution_count": 18,
   "metadata": {},
   "outputs": [
    {
     "name": "stdout",
     "output_type": "stream",
     "text": [
      "(8589, 10)\n"
     ]
    }
   ],
   "source": [
    "data = pd.read_csv('consolidated_data.csv')\n",
    "print(data.shape)"
   ]
  },
  {
   "cell_type": "code",
   "execution_count": 19,
   "metadata": {},
   "outputs": [
    {
     "data": {
      "text/html": [
       "<div>\n",
       "<style>\n",
       "    .dataframe thead tr:only-child th {\n",
       "        text-align: right;\n",
       "    }\n",
       "\n",
       "    .dataframe thead th {\n",
       "        text-align: left;\n",
       "    }\n",
       "\n",
       "    .dataframe tbody tr th {\n",
       "        vertical-align: top;\n",
       "    }\n",
       "</style>\n",
       "<table border=\"1\" class=\"dataframe\">\n",
       "  <thead>\n",
       "    <tr style=\"text-align: right;\">\n",
       "      <th></th>\n",
       "      <th>Rank</th>\n",
       "      <th>Organization Breached</th>\n",
       "      <th>Records Breached</th>\n",
       "      <th>Date of Breach</th>\n",
       "      <th>Type of Breach</th>\n",
       "      <th>Source of Breach</th>\n",
       "      <th>Location</th>\n",
       "      <th>Industry</th>\n",
       "      <th>Risk Score</th>\n",
       "      <th>Reference</th>\n",
       "    </tr>\n",
       "  </thead>\n",
       "  <tbody>\n",
       "    <tr>\n",
       "      <th>0</th>\n",
       "      <td>1</td>\n",
       "      <td>Adobe Systems, Inc</td>\n",
       "      <td>1.520000e+08</td>\n",
       "      <td>9/18/2013</td>\n",
       "      <td>Financial Access</td>\n",
       "      <td>Malicious Outsider</td>\n",
       "      <td>United States</td>\n",
       "      <td>Technology</td>\n",
       "      <td>10.0</td>\n",
       "      <td>http://www.hindustantimes.com/technology/Chunk...</td>\n",
       "    </tr>\n",
       "    <tr>\n",
       "      <th>1</th>\n",
       "      <td>2</td>\n",
       "      <td>MySpace</td>\n",
       "      <td>3.600000e+08</td>\n",
       "      <td>6/11/2013</td>\n",
       "      <td>Account Access</td>\n",
       "      <td>Malicious Outsider</td>\n",
       "      <td>United States</td>\n",
       "      <td>Other</td>\n",
       "      <td>10.0</td>\n",
       "      <td>http://www.pcmag.com/news/344876/myspace-breac...</td>\n",
       "    </tr>\n",
       "    <tr>\n",
       "      <th>2</th>\n",
       "      <td>3</td>\n",
       "      <td>Target</td>\n",
       "      <td>1.100000e+08</td>\n",
       "      <td>11/4/2013</td>\n",
       "      <td>Financial Access</td>\n",
       "      <td>Malicious Outsider</td>\n",
       "      <td>United States</td>\n",
       "      <td>Retail</td>\n",
       "      <td>10.0</td>\n",
       "      <td>http://nypost.com/2013/12/22/chase-bank-opens-...</td>\n",
       "    </tr>\n",
       "    <tr>\n",
       "      <th>3</th>\n",
       "      <td>4</td>\n",
       "      <td>Yahoo</td>\n",
       "      <td>1.000000e+09</td>\n",
       "      <td>8/9/2013</td>\n",
       "      <td>Identity Theft</td>\n",
       "      <td>Malicious Outsider</td>\n",
       "      <td>United States</td>\n",
       "      <td>Technology</td>\n",
       "      <td>10.0</td>\n",
       "      <td>https://www.nytimes.com/2016/12/14/technology/...</td>\n",
       "    </tr>\n",
       "    <tr>\n",
       "      <th>4</th>\n",
       "      <td>5</td>\n",
       "      <td>Country's Supreme Election Committee (YSK)</td>\n",
       "      <td>5.400000e+07</td>\n",
       "      <td>12/16/2013</td>\n",
       "      <td>Identity Theft</td>\n",
       "      <td>Malicious Outsider</td>\n",
       "      <td>Turkey</td>\n",
       "      <td>Government</td>\n",
       "      <td>9.9</td>\n",
       "      <td>http://www.hurriyetdailynews.com/russian-hacke...</td>\n",
       "    </tr>\n",
       "  </tbody>\n",
       "</table>\n",
       "</div>"
      ],
      "text/plain": [
       "   Rank                       Organization Breached  Records Breached  \\\n",
       "0     1                          Adobe Systems, Inc      1.520000e+08   \n",
       "1     2                                     MySpace      3.600000e+08   \n",
       "2     3                                      Target      1.100000e+08   \n",
       "3     4                                       Yahoo      1.000000e+09   \n",
       "4     5  Country's Supreme Election Committee (YSK)      5.400000e+07   \n",
       "\n",
       "  Date of Breach    Type of Breach    Source of Breach       Location  \\\n",
       "0      9/18/2013  Financial Access  Malicious Outsider  United States   \n",
       "1      6/11/2013    Account Access  Malicious Outsider  United States   \n",
       "2      11/4/2013  Financial Access  Malicious Outsider  United States   \n",
       "3       8/9/2013    Identity Theft  Malicious Outsider  United States   \n",
       "4     12/16/2013    Identity Theft  Malicious Outsider         Turkey   \n",
       "\n",
       "     Industry  Risk Score                                          Reference  \n",
       "0  Technology        10.0  http://www.hindustantimes.com/technology/Chunk...  \n",
       "1       Other        10.0  http://www.pcmag.com/news/344876/myspace-breac...  \n",
       "2      Retail        10.0  http://nypost.com/2013/12/22/chase-bank-opens-...  \n",
       "3  Technology        10.0  https://www.nytimes.com/2016/12/14/technology/...  \n",
       "4  Government         9.9  http://www.hurriyetdailynews.com/russian-hacke...  "
      ]
     },
     "execution_count": 19,
     "metadata": {},
     "output_type": "execute_result"
    }
   ],
   "source": [
    "data.head()"
   ]
  },
  {
   "cell_type": "code",
   "execution_count": 20,
   "metadata": {},
   "outputs": [
    {
     "data": {
      "text/plain": [
       "Index(['Rank', 'Organization Breached', 'Records Breached', 'Date of Breach',\n",
       "       'Type of Breach', 'Source of Breach', 'Location', 'Industry',\n",
       "       'Risk Score', 'Reference'],\n",
       "      dtype='object')"
      ]
     },
     "execution_count": 20,
     "metadata": {},
     "output_type": "execute_result"
    }
   ],
   "source": [
    "data.columns"
   ]
  },
  {
   "cell_type": "code",
   "execution_count": 21,
   "metadata": {},
   "outputs": [
    {
     "name": "stdout",
     "output_type": "stream",
     "text": [
      "Rank <class 'numpy.int64'>\n",
      "Organization Breached <class 'str'>\n",
      "Records Breached <class 'numpy.float64'>\n",
      "Date of Breach <class 'str'>\n",
      "Type of Breach <class 'str'>\n",
      "Source of Breach <class 'str'>\n",
      "Location <class 'str'>\n",
      "Industry <class 'str'>\n",
      "Risk Score <class 'numpy.float64'>\n",
      "Reference <class 'str'>\n"
     ]
    }
   ],
   "source": [
    "for i in data.columns:\n",
    "    print(i, type(data[i][0]))"
   ]
  },
  {
   "cell_type": "code",
   "execution_count": 22,
   "metadata": {},
   "outputs": [
    {
     "data": {
      "text/plain": [
       "4144"
      ]
     },
     "execution_count": 22,
     "metadata": {},
     "output_type": "execute_result"
    }
   ],
   "source": [
    "data['Records Breached'].isnull().sum()"
   ]
  },
  {
   "cell_type": "code",
   "execution_count": 23,
   "metadata": {},
   "outputs": [
    {
     "name": "stdout",
     "output_type": "stream",
     "text": [
      "(4445, 10)\n"
     ]
    }
   ],
   "source": [
    "clean_data = data.dropna(subset=['Records Breached'])\n",
    "print(clean_data.shape)"
   ]
  },
  {
   "cell_type": "code",
   "execution_count": 24,
   "metadata": {},
   "outputs": [
    {
     "data": {
      "text/plain": [
       "27"
      ]
     },
     "execution_count": 24,
     "metadata": {},
     "output_type": "execute_result"
    }
   ],
   "source": [
    "clean_data.isnull().sum().sum()"
   ]
  },
  {
   "cell_type": "code",
   "execution_count": 25,
   "metadata": {},
   "outputs": [
    {
     "data": {
      "text/plain": [
       "27"
      ]
     },
     "execution_count": 25,
     "metadata": {},
     "output_type": "execute_result"
    }
   ],
   "source": [
    "clean_data['Reference'].isnull().sum()"
   ]
  },
  {
   "cell_type": "code",
   "execution_count": 26,
   "metadata": {},
   "outputs": [
    {
     "data": {
      "text/html": [
       "<div>\n",
       "<style>\n",
       "    .dataframe thead tr:only-child th {\n",
       "        text-align: right;\n",
       "    }\n",
       "\n",
       "    .dataframe thead th {\n",
       "        text-align: left;\n",
       "    }\n",
       "\n",
       "    .dataframe tbody tr th {\n",
       "        vertical-align: top;\n",
       "    }\n",
       "</style>\n",
       "<table border=\"1\" class=\"dataframe\">\n",
       "  <thead>\n",
       "    <tr style=\"text-align: right;\">\n",
       "      <th></th>\n",
       "      <th>Records Breached</th>\n",
       "      <th>Type of Breach</th>\n",
       "      <th>Source of Breach</th>\n",
       "      <th>Industry</th>\n",
       "      <th>Risk Score</th>\n",
       "    </tr>\n",
       "  </thead>\n",
       "  <tbody>\n",
       "    <tr>\n",
       "      <th>0</th>\n",
       "      <td>1.520000e+08</td>\n",
       "      <td>Financial Access</td>\n",
       "      <td>Malicious Outsider</td>\n",
       "      <td>Technology</td>\n",
       "      <td>10.0</td>\n",
       "    </tr>\n",
       "    <tr>\n",
       "      <th>1</th>\n",
       "      <td>3.600000e+08</td>\n",
       "      <td>Account Access</td>\n",
       "      <td>Malicious Outsider</td>\n",
       "      <td>Other</td>\n",
       "      <td>10.0</td>\n",
       "    </tr>\n",
       "    <tr>\n",
       "      <th>2</th>\n",
       "      <td>1.100000e+08</td>\n",
       "      <td>Financial Access</td>\n",
       "      <td>Malicious Outsider</td>\n",
       "      <td>Retail</td>\n",
       "      <td>10.0</td>\n",
       "    </tr>\n",
       "    <tr>\n",
       "      <th>3</th>\n",
       "      <td>1.000000e+09</td>\n",
       "      <td>Identity Theft</td>\n",
       "      <td>Malicious Outsider</td>\n",
       "      <td>Technology</td>\n",
       "      <td>10.0</td>\n",
       "    </tr>\n",
       "    <tr>\n",
       "      <th>4</th>\n",
       "      <td>5.400000e+07</td>\n",
       "      <td>Identity Theft</td>\n",
       "      <td>Malicious Outsider</td>\n",
       "      <td>Government</td>\n",
       "      <td>9.9</td>\n",
       "    </tr>\n",
       "  </tbody>\n",
       "</table>\n",
       "</div>"
      ],
      "text/plain": [
       "   Records Breached    Type of Breach    Source of Breach    Industry  \\\n",
       "0      1.520000e+08  Financial Access  Malicious Outsider  Technology   \n",
       "1      3.600000e+08    Account Access  Malicious Outsider       Other   \n",
       "2      1.100000e+08  Financial Access  Malicious Outsider      Retail   \n",
       "3      1.000000e+09    Identity Theft  Malicious Outsider  Technology   \n",
       "4      5.400000e+07    Identity Theft  Malicious Outsider  Government   \n",
       "\n",
       "   Risk Score  \n",
       "0        10.0  \n",
       "1        10.0  \n",
       "2        10.0  \n",
       "3        10.0  \n",
       "4         9.9  "
      ]
     },
     "execution_count": 26,
     "metadata": {},
     "output_type": "execute_result"
    }
   ],
   "source": [
    "clean_data = clean_data.drop(['Rank', 'Organization Breached', 'Date of Breach', 'Location', 'Reference'], axis=1)\n",
    "clean_data.head()"
   ]
  },
  {
   "cell_type": "code",
   "execution_count": 27,
   "metadata": {},
   "outputs": [
    {
     "name": "stdout",
     "output_type": "stream",
     "text": [
      "(4445, 5)\n"
     ]
    }
   ],
   "source": [
    "print(clean_data.shape)"
   ]
  },
  {
   "cell_type": "code",
   "execution_count": 28,
   "metadata": {},
   "outputs": [
    {
     "data": {
      "text/plain": [
       "Identity Theft      3011\n",
       "Account Access       525\n",
       "Financial Access     451\n",
       "Nuisance             286\n",
       "Existential Data     172\n",
       "Name: Type of Breach, dtype: int64"
      ]
     },
     "execution_count": 28,
     "metadata": {},
     "output_type": "execute_result"
    }
   ],
   "source": [
    "clean_data['Type of Breach'].value_counts()"
   ]
  },
  {
   "cell_type": "code",
   "execution_count": 29,
   "metadata": {},
   "outputs": [
    {
     "data": {
      "text/plain": [
       "Malicious Outsider    2511\n",
       "Accidental Loss       1181\n",
       "Malicious Insider      591\n",
       "Hacktivist              83\n",
       "State Sponsored         63\n",
       "Unknown                 16\n",
       "Name: Source of Breach, dtype: int64"
      ]
     },
     "execution_count": 29,
     "metadata": {},
     "output_type": "execute_result"
    }
   ],
   "source": [
    "clean_data['Source of Breach'].value_counts()"
   ]
  },
  {
   "cell_type": "code",
   "execution_count": 30,
   "metadata": {},
   "outputs": [
    {
     "data": {
      "text/plain": [
       "Healthcare               1714\n",
       "Government                698\n",
       "Other                     480\n",
       "Education                 433\n",
       "Financial                 351\n",
       "Technology                325\n",
       "Retail                    305\n",
       "Entertainment              38\n",
       "Industrial                 28\n",
       "Hospitality                21\n",
       "Professional Services      16\n",
       "Non-profit                 15\n",
       "Insurance                  13\n",
       "Social Media                6\n",
       "other                       2\n",
       "Name: Industry, dtype: int64"
      ]
     },
     "execution_count": 30,
     "metadata": {},
     "output_type": "execute_result"
    }
   ],
   "source": [
    "clean_data['Industry'].value_counts()"
   ]
  },
  {
   "cell_type": "code",
   "execution_count": 31,
   "metadata": {},
   "outputs": [
    {
     "name": "stdout",
     "output_type": "stream",
     "text": [
      "1.0 1340000000.0\n"
     ]
    }
   ],
   "source": [
    "print(clean_data['Records Breached'].min(), clean_data['Records Breached'].max())"
   ]
  },
  {
   "cell_type": "code",
   "execution_count": 32,
   "metadata": {},
   "outputs": [
    {
     "data": {
      "text/html": [
       "<div>\n",
       "<style>\n",
       "    .dataframe thead tr:only-child th {\n",
       "        text-align: right;\n",
       "    }\n",
       "\n",
       "    .dataframe thead th {\n",
       "        text-align: left;\n",
       "    }\n",
       "\n",
       "    .dataframe tbody tr th {\n",
       "        vertical-align: top;\n",
       "    }\n",
       "</style>\n",
       "<table border=\"1\" class=\"dataframe\">\n",
       "  <thead>\n",
       "    <tr style=\"text-align: right;\">\n",
       "      <th></th>\n",
       "      <th>Account Access</th>\n",
       "      <th>Existential Data</th>\n",
       "      <th>Financial Access</th>\n",
       "      <th>Identity Theft</th>\n",
       "      <th>Nuisance</th>\n",
       "    </tr>\n",
       "  </thead>\n",
       "  <tbody>\n",
       "    <tr>\n",
       "      <th>0</th>\n",
       "      <td>0</td>\n",
       "      <td>0</td>\n",
       "      <td>1</td>\n",
       "      <td>0</td>\n",
       "      <td>0</td>\n",
       "    </tr>\n",
       "    <tr>\n",
       "      <th>1</th>\n",
       "      <td>1</td>\n",
       "      <td>0</td>\n",
       "      <td>0</td>\n",
       "      <td>0</td>\n",
       "      <td>0</td>\n",
       "    </tr>\n",
       "    <tr>\n",
       "      <th>2</th>\n",
       "      <td>0</td>\n",
       "      <td>0</td>\n",
       "      <td>1</td>\n",
       "      <td>0</td>\n",
       "      <td>0</td>\n",
       "    </tr>\n",
       "    <tr>\n",
       "      <th>3</th>\n",
       "      <td>0</td>\n",
       "      <td>0</td>\n",
       "      <td>0</td>\n",
       "      <td>1</td>\n",
       "      <td>0</td>\n",
       "    </tr>\n",
       "    <tr>\n",
       "      <th>4</th>\n",
       "      <td>0</td>\n",
       "      <td>0</td>\n",
       "      <td>0</td>\n",
       "      <td>1</td>\n",
       "      <td>0</td>\n",
       "    </tr>\n",
       "  </tbody>\n",
       "</table>\n",
       "</div>"
      ],
      "text/plain": [
       "   Account Access  Existential Data  Financial Access  Identity Theft  \\\n",
       "0               0                 0                 1               0   \n",
       "1               1                 0                 0               0   \n",
       "2               0                 0                 1               0   \n",
       "3               0                 0                 0               1   \n",
       "4               0                 0                 0               1   \n",
       "\n",
       "   Nuisance  \n",
       "0         0  \n",
       "1         0  \n",
       "2         0  \n",
       "3         0  \n",
       "4         0  "
      ]
     },
     "execution_count": 32,
     "metadata": {},
     "output_type": "execute_result"
    }
   ],
   "source": [
    "encoded_column2 = pd.get_dummies(clean_data['Type of Breach'])\n",
    "encoded_column2.head()"
   ]
  },
  {
   "cell_type": "code",
   "execution_count": 33,
   "metadata": {
    "collapsed": true
   },
   "outputs": [],
   "source": [
    "encoded_column3 = pd.get_dummies(clean_data['Source of Breach'])\n",
    "encoded_column4 = pd.get_dummies(clean_data['Industry'])"
   ]
  },
  {
   "cell_type": "code",
   "execution_count": 34,
   "metadata": {},
   "outputs": [
    {
     "data": {
      "text/html": [
       "<div>\n",
       "<style>\n",
       "    .dataframe thead tr:only-child th {\n",
       "        text-align: right;\n",
       "    }\n",
       "\n",
       "    .dataframe thead th {\n",
       "        text-align: left;\n",
       "    }\n",
       "\n",
       "    .dataframe tbody tr th {\n",
       "        vertical-align: top;\n",
       "    }\n",
       "</style>\n",
       "<table border=\"1\" class=\"dataframe\">\n",
       "  <thead>\n",
       "    <tr style=\"text-align: right;\">\n",
       "      <th></th>\n",
       "      <th>Records Breached</th>\n",
       "      <th>Risk Score</th>\n",
       "      <th>Account Access</th>\n",
       "      <th>Existential Data</th>\n",
       "      <th>Financial Access</th>\n",
       "      <th>Identity Theft</th>\n",
       "      <th>Nuisance</th>\n",
       "      <th>Accidental Loss</th>\n",
       "      <th>Hacktivist</th>\n",
       "      <th>Malicious Insider</th>\n",
       "      <th>...</th>\n",
       "      <th>Hospitality</th>\n",
       "      <th>Industrial</th>\n",
       "      <th>Insurance</th>\n",
       "      <th>Non-profit</th>\n",
       "      <th>Other</th>\n",
       "      <th>Professional Services</th>\n",
       "      <th>Retail</th>\n",
       "      <th>Social Media</th>\n",
       "      <th>Technology</th>\n",
       "      <th>other</th>\n",
       "    </tr>\n",
       "  </thead>\n",
       "  <tbody>\n",
       "    <tr>\n",
       "      <th>0</th>\n",
       "      <td>1.520000e+08</td>\n",
       "      <td>10.0</td>\n",
       "      <td>0</td>\n",
       "      <td>0</td>\n",
       "      <td>1</td>\n",
       "      <td>0</td>\n",
       "      <td>0</td>\n",
       "      <td>0</td>\n",
       "      <td>0</td>\n",
       "      <td>0</td>\n",
       "      <td>...</td>\n",
       "      <td>0</td>\n",
       "      <td>0</td>\n",
       "      <td>0</td>\n",
       "      <td>0</td>\n",
       "      <td>0</td>\n",
       "      <td>0</td>\n",
       "      <td>0</td>\n",
       "      <td>0</td>\n",
       "      <td>1</td>\n",
       "      <td>0</td>\n",
       "    </tr>\n",
       "    <tr>\n",
       "      <th>1</th>\n",
       "      <td>3.600000e+08</td>\n",
       "      <td>10.0</td>\n",
       "      <td>1</td>\n",
       "      <td>0</td>\n",
       "      <td>0</td>\n",
       "      <td>0</td>\n",
       "      <td>0</td>\n",
       "      <td>0</td>\n",
       "      <td>0</td>\n",
       "      <td>0</td>\n",
       "      <td>...</td>\n",
       "      <td>0</td>\n",
       "      <td>0</td>\n",
       "      <td>0</td>\n",
       "      <td>0</td>\n",
       "      <td>1</td>\n",
       "      <td>0</td>\n",
       "      <td>0</td>\n",
       "      <td>0</td>\n",
       "      <td>0</td>\n",
       "      <td>0</td>\n",
       "    </tr>\n",
       "    <tr>\n",
       "      <th>2</th>\n",
       "      <td>1.100000e+08</td>\n",
       "      <td>10.0</td>\n",
       "      <td>0</td>\n",
       "      <td>0</td>\n",
       "      <td>1</td>\n",
       "      <td>0</td>\n",
       "      <td>0</td>\n",
       "      <td>0</td>\n",
       "      <td>0</td>\n",
       "      <td>0</td>\n",
       "      <td>...</td>\n",
       "      <td>0</td>\n",
       "      <td>0</td>\n",
       "      <td>0</td>\n",
       "      <td>0</td>\n",
       "      <td>0</td>\n",
       "      <td>0</td>\n",
       "      <td>1</td>\n",
       "      <td>0</td>\n",
       "      <td>0</td>\n",
       "      <td>0</td>\n",
       "    </tr>\n",
       "    <tr>\n",
       "      <th>3</th>\n",
       "      <td>1.000000e+09</td>\n",
       "      <td>10.0</td>\n",
       "      <td>0</td>\n",
       "      <td>0</td>\n",
       "      <td>0</td>\n",
       "      <td>1</td>\n",
       "      <td>0</td>\n",
       "      <td>0</td>\n",
       "      <td>0</td>\n",
       "      <td>0</td>\n",
       "      <td>...</td>\n",
       "      <td>0</td>\n",
       "      <td>0</td>\n",
       "      <td>0</td>\n",
       "      <td>0</td>\n",
       "      <td>0</td>\n",
       "      <td>0</td>\n",
       "      <td>0</td>\n",
       "      <td>0</td>\n",
       "      <td>1</td>\n",
       "      <td>0</td>\n",
       "    </tr>\n",
       "    <tr>\n",
       "      <th>4</th>\n",
       "      <td>5.400000e+07</td>\n",
       "      <td>9.9</td>\n",
       "      <td>0</td>\n",
       "      <td>0</td>\n",
       "      <td>0</td>\n",
       "      <td>1</td>\n",
       "      <td>0</td>\n",
       "      <td>0</td>\n",
       "      <td>0</td>\n",
       "      <td>0</td>\n",
       "      <td>...</td>\n",
       "      <td>0</td>\n",
       "      <td>0</td>\n",
       "      <td>0</td>\n",
       "      <td>0</td>\n",
       "      <td>0</td>\n",
       "      <td>0</td>\n",
       "      <td>0</td>\n",
       "      <td>0</td>\n",
       "      <td>0</td>\n",
       "      <td>0</td>\n",
       "    </tr>\n",
       "  </tbody>\n",
       "</table>\n",
       "<p>5 rows × 28 columns</p>\n",
       "</div>"
      ],
      "text/plain": [
       "   Records Breached  Risk Score  Account Access  Existential Data  \\\n",
       "0      1.520000e+08        10.0               0                 0   \n",
       "1      3.600000e+08        10.0               1                 0   \n",
       "2      1.100000e+08        10.0               0                 0   \n",
       "3      1.000000e+09        10.0               0                 0   \n",
       "4      5.400000e+07         9.9               0                 0   \n",
       "\n",
       "   Financial Access  Identity Theft  Nuisance  Accidental Loss  Hacktivist  \\\n",
       "0                 1               0         0                0           0   \n",
       "1                 0               0         0                0           0   \n",
       "2                 1               0         0                0           0   \n",
       "3                 0               1         0                0           0   \n",
       "4                 0               1         0                0           0   \n",
       "\n",
       "   Malicious Insider  ...    Hospitality  Industrial  Insurance  Non-profit  \\\n",
       "0                  0  ...              0           0          0           0   \n",
       "1                  0  ...              0           0          0           0   \n",
       "2                  0  ...              0           0          0           0   \n",
       "3                  0  ...              0           0          0           0   \n",
       "4                  0  ...              0           0          0           0   \n",
       "\n",
       "   Other  Professional Services  Retail  Social Media  Technology  other  \n",
       "0      0                      0       0             0           1      0  \n",
       "1      1                      0       0             0           0      0  \n",
       "2      0                      0       1             0           0      0  \n",
       "3      0                      0       0             0           1      0  \n",
       "4      0                      0       0             0           0      0  \n",
       "\n",
       "[5 rows x 28 columns]"
      ]
     },
     "execution_count": 34,
     "metadata": {},
     "output_type": "execute_result"
    }
   ],
   "source": [
    "encoded_data = clean_data.drop(['Type of Breach', 'Source of Breach', 'Industry'], axis=1)\n",
    "encoded_data = encoded_data.join(encoded_column2)\n",
    "encoded_data = encoded_data.join(encoded_column3)\n",
    "encoded_data = encoded_data.join(encoded_column4)\n",
    "encoded_data.head()"
   ]
  },
  {
   "cell_type": "code",
   "execution_count": 37,
   "metadata": {},
   "outputs": [
    {
     "data": {
      "image/png": "[encoded data removed]",
      "text/plain": [
       "<matplotlib.figure.Figure at 0xcb0d8d0>"
      ]
     },
     "metadata": {},
     "output_type": "display_data"
    }
   ],
   "source": [
    "# Plot Records Breached vs Risk Score to see if there's a discernible relationship.\n",
    "# At a high level, the Risk Score seems to increase as the the number of Records Breached increases (but not\n",
    "#    in linear fashion).  Scaling may be an issue since Records Breached has a very wide range: 1 - 1.4B\n",
    "#\n",
    "f1 = encoded_data['Risk Score'].values\n",
    "f2 = encoded_data['Records Breached'].values\n",
    "X = np.array(list(zip(f1, f2)))\n",
    "\n",
    "plt.rcParams['figure.figsize'] = (16, 9)\n",
    "plt.style.use('ggplot')\n",
    "plt.scatter(f1, f2, c='black', s=7)\n",
    "plt.show()"
   ]
  },
  {
   "cell_type": "code",
   "execution_count": 39,
   "metadata": {},
   "outputs": [
    {
     "data": {
      "text/plain": [
       "(4445, 27)"
      ]
     },
     "execution_count": 39,
     "metadata": {},
     "output_type": "execute_result"
    }
   ],
   "source": [
    "# To see how the other features introduce groupings in data, conduct K Means Clustering analysis.\n",
    "# For this analysis, drop the Risk Score column since it's not actually a feature, but rather a target/response variable.\n",
    "reduced_data = encoded_data.drop(['Risk Score'], axis=1)\n",
    "reduced_data.shape"
   ]
  },
  {
   "cell_type": "code",
   "execution_count": 40,
   "metadata": {},
   "outputs": [
    {
     "name": "stdout",
     "output_type": "stream",
     "text": [
      "[[  5.02509216e+05   1.17021277e-01   3.87052965e-02   1.01403350e-01\n",
      "    6.78813943e-01   6.40561340e-02   2.65504753e-01   1.87867813e-02\n",
      "    1.33544590e-01   5.64735174e-01   1.38071526e-02   3.62154821e-03\n",
      "    9.80081485e-02   8.37483024e-03   7.83159801e-02   1.56631960e-01\n",
      "    3.87732005e-01   4.75328203e-03   6.33770937e-03   2.94250792e-03\n",
      "    3.39520145e-03   1.08193753e-01   3.62154821e-03   6.81303757e-02\n",
      "    1.35808058e-03   7.17519239e-02   4.52693526e-04]\n",
      " [  1.18000000e+09   3.33333333e-01   0.00000000e+00   0.00000000e+00\n",
      "    3.33333333e-01   3.33333333e-01   3.33333333e-01   0.00000000e+00\n",
      "    0.00000000e+00   6.66666667e-01   0.00000000e+00  -4.33680869e-19\n",
      "    0.00000000e+00   0.00000000e+00   0.00000000e+00   0.00000000e+00\n",
      "    0.00000000e+00   0.00000000e+00   0.00000000e+00   0.00000000e+00\n",
      "    0.00000000e+00   3.33333333e-01  -4.33680869e-19   0.00000000e+00\n",
      "    2.16840434e-19   6.66666667e-01  -5.42101086e-20]\n",
      " [  1.19783399e+08   2.00000000e-01  -6.93889390e-18   1.50000000e-01\n",
      "    5.50000000e-01   1.00000000e-01   3.00000000e-01  -3.46944695e-18\n",
      "    5.00000000e-02   6.00000000e-01   5.00000000e-02  -4.33680869e-19\n",
      "   -4.16333634e-17   1.73472348e-18   2.50000000e-01   3.00000000e-01\n",
      "    5.00000000e-02   0.00000000e+00   0.00000000e+00   1.30104261e-18\n",
      "   -8.67361738e-19  -2.77555756e-17  -4.33680869e-19   1.50000000e-01\n",
      "   -2.16840434e-19   2.50000000e-01  -5.42101086e-20]\n",
      " [  3.93053574e+08   7.50000000e-01   2.50000000e-01   0.00000000e+00\n",
      "    0.00000000e+00   0.00000000e+00   2.50000000e-01   0.00000000e+00\n",
      "    0.00000000e+00   5.00000000e-01   2.50000000e-01   0.00000000e+00\n",
      "    0.00000000e+00   2.50000000e-01   0.00000000e+00   0.00000000e+00\n",
      "    0.00000000e+00   0.00000000e+00   0.00000000e+00   0.00000000e+00\n",
      "    0.00000000e+00   2.50000000e-01   0.00000000e+00   2.50000000e-01\n",
      "    0.00000000e+00   2.50000000e-01   0.00000000e+00]]\n"
     ]
    }
   ],
   "source": [
    "# Perform K Means Cluster analysis\n",
    "kmeans = KMeans(n_clusters=4)\n",
    "# Fit input data\n",
    "kmeans = kmeans.fit(reduced_data)\n",
    "# Get cluster labels\n",
    "labels = kmeans.predict(reduced_data)\n",
    "# Centroid values: cooridnates in a 27 dimmensional space.\n",
    "# It appears first clusterring occurs as a result of the number of breaches which is our only\n",
    "#    numeric feature.\n",
    "centroids = kmeans.cluster_centers_\n",
    "print(centroids)"
   ]
  },
  {
   "cell_type": "code",
   "execution_count": 41,
   "metadata": {},
   "outputs": [
    {
     "data": {
      "text/plain": [
       "(4445, 26)"
      ]
     },
     "execution_count": 41,
     "metadata": {},
     "output_type": "execute_result"
    }
   ],
   "source": [
    "# Reperform K Means Cluster analysis w/o Records Breached\n",
    "# All categorical features\n",
    "reduced_data_all_cat = reduced_data.drop(['Records Breached'], axis=1)\n",
    "reduced_data_all_cat.shape"
   ]
  },
  {
   "cell_type": "code",
   "execution_count": 43,
   "metadata": {},
   "outputs": [
    {
     "name": "stdout",
     "output_type": "stream",
     "text": [
      "[[  2.20541903e-02   1.82734720e-02   6.30119723e-03   8.85948330e-01\n",
      "    6.74228103e-02   6.86200378e-01   1.70132325e-02   2.77252678e-01\n",
      "   -6.43929354e-15   1.19722747e-02   7.56143667e-03   9.32577190e-02\n",
      "    3.15059861e-03   6.11216131e-02   2.33144297e-01   4.65028355e-01\n",
      "    3.78071834e-03   3.15059861e-03   2.52047889e-03   3.78071834e-03\n",
      "    6.61625709e-02   3.78071834e-03   3.59168242e-02   1.10588622e-17\n",
      "    2.52047889e-02   4.66206934e-18]\n",
      " [ -1.41553436e-15   1.02347983e-02   3.19189120e-16   9.66285370e-01\n",
      "    2.34798314e-02  -5.93969318e-15  -1.38777878e-17   1.30451205e-15\n",
      "    1.00000000e+00  -1.21430643e-16   4.85722573e-17   1.18001204e-01\n",
      "    7.82661048e-03   4.39494281e-02   9.45213727e-02   5.54485250e-01\n",
      "    5.41842264e-03   9.63275135e-03   3.61228176e-03   3.01023480e-03\n",
      "    7.64599639e-02   4.21432872e-03   3.37146297e-02   1.80614088e-03\n",
      "    4.33473811e-02   6.07153217e-18]\n",
      " [  4.09356725e-01   1.05263158e-01   3.68421053e-01   1.06581410e-14\n",
      "    1.16959064e-01   7.68588137e-02   4.67836257e-02   1.26148705e-01\n",
      "    7.10108605e-01   3.67585631e-02   3.34168755e-03   7.43525480e-02\n",
      "    1.67084378e-02   1.51211362e-01   1.42857143e-01   4.59482038e-02\n",
      "    5.01253133e-03   5.84795322e-03   2.50626566e-03   3.34168755e-03\n",
      "    2.07184628e-01   2.50626566e-03   1.60401003e-01   2.50626566e-03\n",
      "    1.77944862e-01   1.67084378e-03]]\n"
     ]
    }
   ],
   "source": [
    "kmeans = KMeans(n_clusters=3)\n",
    "# Fitting the input data\n",
    "kmeans = kmeans.fit(reduced_data_all_cat)\n",
    "# Getting the cluster labels\n",
    "labels = kmeans.predict(reduced_data_all_cat)\n",
    "# Centroid values\n",
    "centroids = kmeans.cluster_centers_\n",
    "print(centroids)"
   ]
  },
  {
   "cell_type": "code",
   "execution_count": null,
   "metadata": {
    "collapsed": true
   },
   "outputs": [],
   "source": []
  }
 ],
 "metadata": {
  "kernelspec": {
   "display_name": "Python 3",
   "language": "python",
   "name": "python3"
  },
  "language_info": {
   "codemirror_mode": {
    "name": "ipython",
    "version": 3
   },
   "file_extension": ".py",
   "mimetype": "text/x-python",
   "name": "python",
   "nbconvert_exporter": "python",
   "pygments_lexer": "ipython3",
   "version": "3.6.3"
  }
 },
 "nbformat": 4,
 "nbformat_minor": 2
}
